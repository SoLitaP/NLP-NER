{
 "cells": [
  {
   "cell_type": "code",
   "metadata": {
    "ExecuteTime": {
     "end_time": "2024-12-22T05:37:04.138120Z",
     "start_time": "2024-12-22T05:37:04.133825Z"
    }
   },
   "source": [
    "# !pip install numpy pandas scikit-learn tensorflow torch transformers spacy"
   ],
   "outputs": [],
   "execution_count": 1
  },
  {
   "cell_type": "markdown",
   "metadata": {},
   "source": [
    "### BIO Tagging"
   ]
  },
  {
   "cell_type": "code",
   "metadata": {
    "ExecuteTime": {
     "end_time": "2024-12-22T05:37:04.151951Z",
     "start_time": "2024-12-22T05:37:04.146166Z"
    }
   },
   "source": [
    "# !pip install chardet\n"
   ],
   "outputs": [],
   "execution_count": 2
  },
  {
   "cell_type": "code",
   "metadata": {
    "ExecuteTime": {
     "end_time": "2024-12-22T05:37:04.914872Z",
     "start_time": "2024-12-22T05:37:04.314435Z"
    }
   },
   "source": [
    "import os\n",
    "import json\n",
    "import chardet\n",
    "\n",
    "def detect_file_encoding(file_path):\n",
    "    \"\"\"Detect the encoding of a file.\"\"\"\n",
    "    with open(file_path, 'rb') as f:  # Open in binary mode\n",
    "        raw_data = f.read()\n",
    "        result = chardet.detect(raw_data)\n",
    "        return result['encoding']\n",
    "\n",
    "def prepare_hf_dataset(parent_folder):\n",
    "    \"\"\"Prepare the dataset from all year folders in the given parent folder.\"\"\"\n",
    "    dataset = {\"tokens\": [], \"tags\": []}\n",
    "    \n",
    "    # Iterate over all year folders in the parent folder\n",
    "    for year_folder in os.listdir(parent_folder):\n",
    "        year_path = os.path.join(parent_folder, year_folder)\n",
    "        if os.path.isdir(year_path):  # Check if it's a folder\n",
    "            for file in os.listdir(year_path):\n",
    "                if file.endswith(\".final\"):\n",
    "                    file_path = os.path.join(year_path, file)\n",
    "                    # print(f\"Processing file: {file_path}\")  # Debugging\n",
    "                    \n",
    "                    # Detect encoding\n",
    "                    try:\n",
    "                        encoding = detect_file_encoding(file_path)\n",
    "                        # print(f\"Detected encoding for {file_path}: {encoding}\")\n",
    "                        with open(file_path, 'r', encoding=encoding) as f:\n",
    "                            tokens, tags = [], []\n",
    "                            for line in f:\n",
    "                                if line.strip():  # Non-empty line\n",
    "                                    parts = line.strip().split()\n",
    "                                    if len(parts) == 2:\n",
    "                                        word, tag = parts\n",
    "                                        tokens.append(word)\n",
    "                                        tags.append(tag)\n",
    "                                else:  # Empty line signals end of a sentence\n",
    "                                    if tokens and tags:\n",
    "                                        dataset[\"tokens\"].append(tokens)\n",
    "                                        dataset[\"tags\"].append(tags)\n",
    "                                        tokens, tags = [], []  # Reset for next sentence\n",
    "                            # Ensure the last sentence in the file is added\n",
    "                            if tokens and tags:\n",
    "                                dataset[\"tokens\"].append(tokens)\n",
    "                                dataset[\"tags\"].append(tags)\n",
    "                    except UnicodeDecodeError as e:\n",
    "                        print(f\"Error processing file {file_path}: {e}\")\n",
    "    \n",
    "    return dataset\n",
    "\n",
    "# Test the function\n",
    "dataset_dir = os.getcwd() + \"\\\\Combine_Dataset\"\n",
    "dataset = dict({})\n",
    "\n",
    "for dir in os.scandir(dataset_dir):\n",
    "    if dir.is_dir():\n",
    "        try:\n",
    "            # Attempt to prepare the dataset for this directory\n",
    "            dataset[dir.name] = prepare_hf_dataset(f\"{dataset_dir}\\\\{str(dir.name)}\")\n",
    "            \n",
    "            # Save the dataset to a JSON file\n",
    "            output_file = f\"{dir.name}_dataset.json\"\n",
    "            with open(output_file, 'w', encoding='utf-8', errors='replace') as f:\n",
    "                json.dump(dataset[dir.name], f)\n",
    "            print(f\"Dataset saved to {output_file}\")\n",
    "        \n",
    "        except UnicodeDecodeError as e:\n",
    "            print(f\"Skipping directory {dir.name} due to encoding issue: {e}\")\n",
    "        except Exception as e:\n",
    "            print(f\"An error occurred with directory {dir.name}: {e}\")"
   ],
   "outputs": [
    {
     "name": "stdout",
     "output_type": "stream",
     "text": [
      "Dataset saved to dev_dataset.json\n",
      "Dataset saved to test_dataset.json\n",
      "Error processing file D:\\Y4 T1\\NLP\\Project\\Combine_Dataset\\train\\2021\\2021-47-2-445-476.final: 'charmap' codec can't decode byte 0x9d in position 342: character maps to <undefined>\n",
      "Dataset saved to train_dataset.json\n"
     ]
    }
   ],
   "execution_count": 3
  },
  {
   "cell_type": "code",
   "metadata": {
    "ExecuteTime": {
     "end_time": "2024-12-22T05:37:04.966495Z",
     "start_time": "2024-12-22T05:37:04.924896Z"
    }
   },
   "source": [
    "import pandas as pd\n",
    "train_df = pd.read_json(\"train_dataset.json\")\n",
    "test_df = pd.read_json(\"test_dataset.json\")\n",
    "dev_df = pd.read_json(\"dev_dataset.json\")\n",
    "\n",
    "print(f\"Train Size: {len(train_df)}\")\n",
    "print(f\"Test Size: {len(test_df)}\")\n",
    "print(f\"Dev Size: {len(dev_df)}\")\n",
    "\n",
    "def labels_lower_to_upper(df):\n",
    "    for i, tags in enumerate(df.tags):\n",
    "        for tag in tags:\n",
    "            if tag.islower():\n",
    "                df['tags'][i][tags.index(tag)] = tag.upper()\n",
    "\n",
    "labels_lower_to_upper(train_df)\n",
    "labels_lower_to_upper(test_df)\n",
    "labels_lower_to_upper(dev_df)"
   ],
   "outputs": [
    {
     "name": "stdout",
     "output_type": "stream",
     "text": [
      "Train Size: 503\n",
      "Test Size: 60\n",
      "Dev Size: 49\n"
     ]
    }
   ],
   "execution_count": 4
  },
  {
   "cell_type": "code",
   "metadata": {
    "ExecuteTime": {
     "end_time": "2024-12-22T05:37:05.176581Z",
     "start_time": "2024-12-22T05:37:04.992361Z"
    }
   },
   "source": [
    "#plot the tags\n",
    "import matplotlib.pyplot as plt\n",
    "import numpy\n",
    "\n",
    "# Count the number of occurrences of each tag\n",
    "tag_counts = {}\n",
    "for tags in train_df[\"tags\"]:\n",
    "    for tag in tags:\n",
    "        if tag not in tag_counts:\n",
    "            tag_counts[tag] = 0\n",
    "        tag_counts[tag] += 1\n",
    "        \n",
    "# Sort the tags by count\n",
    "sorted_tag_counts = dict(sorted(tag_counts.items(), key=lambda x: x[1], reverse=True))\n",
    "\n",
    "# Plot the tag counts\n",
    "plt.figure(figsize=(12, 6))\n",
    "plt.bar(sorted_tag_counts.keys(), sorted_tag_counts.values())\n",
    "plt.xticks(rotation=45)\n",
    "plt.xlabel(\"Tag\")\n",
    "plt.ylabel(\"Count\")\n",
    "plt.title(\"Tag Counts\")\n",
    "plt.show()"
   ],
   "outputs": [
    {
     "data": {
      "text/plain": [
       "<Figure size 1200x600 with 1 Axes>"
      ],
      "image/png": "[encoded data removed]"
     },
     "metadata": {},
     "output_type": "display_data"
    }
   ],
   "execution_count": 5
  },
  {
   "cell_type": "code",
   "metadata": {
    "ExecuteTime": {
     "end_time": "2024-12-22T05:37:05.208203Z",
     "start_time": "2024-12-22T05:37:05.205485Z"
    }
   },
   "source": [],
   "outputs": [],
   "execution_count": null
  },
  {
   "cell_type": "code",
   "metadata": {
    "ExecuteTime": {
     "end_time": "2024-12-22T05:37:05.222280Z",
     "start_time": "2024-12-22T05:37:05.208203Z"
    }
   },
   "source": [
    "def clean_labels(df):\n",
    "    for i, tags in enumerate(df.tags):\n",
    "        for tag in tags:\n",
    "            if tag.islower():\n",
    "                df['tags'][i][tags.index(tag)] = tag.upper()\n",
    "            if len(tag) > 1:\n",
    "                df['tags'][i][tags.index(tag)] = tag[0]\n",
    "            if tag=='0':\n",
    "                df['tags'][i][tags.index(tag)] = 'O'\n",
    "\n",
    "clean_labels(train_df)\n",
    "clean_labels(test_df)\n",
    "clean_labels(dev_df)"
   ],
   "outputs": [],
   "execution_count": 6
  },
  {
   "cell_type": "code",
   "metadata": {
    "ExecuteTime": {
     "end_time": "2024-12-22T05:37:05.324778Z",
     "start_time": "2024-12-22T05:37:05.234592Z"
    }
   },
   "source": [
    "#plot the tags\n",
    "import matplotlib.pyplot as plt\n",
    "import numpy\n",
    "\n",
    "# Count the number of occurrences of each tag\n",
    "tag_counts = {}\n",
    "for tags in train_df[\"tags\"]:\n",
    "    for tag in tags:\n",
    "        if tag not in tag_counts:\n",
    "            tag_counts[tag] = 0\n",
    "        tag_counts[tag] += 1\n",
    "        \n",
    "# Sort the tags by count\n",
    "sorted_tag_counts = dict(sorted(tag_counts.items(), key=lambda x: x[1], reverse=True))\n",
    "\n",
    "# Plot the tag counts\n",
    "plt.figure(figsize=(12, 6))\n",
    "plt.bar(sorted_tag_counts.keys(), sorted_tag_counts.values())\n",
    "# plt.xticks(rotation=45)\n",
    "plt.xlabel(\"Tag\")\n",
    "plt.ylabel(\"Count\")\n",
    "plt.title(\"Tag Counts\")\n",
    "plt.show()"
   ],
   "outputs": [
    {
     "data": {
      "text/plain": [
       "<Figure size 1200x600 with 1 Axes>"
      ],
      "image/png": "[encoded data removed]"
     },
     "metadata": {},
     "output_type": "display_data"
    }
   ],
   "execution_count": 7
  },
  {
   "cell_type": "code",
   "metadata": {
    "ExecuteTime": {
     "end_time": "2024-12-22T05:37:05.353342Z",
     "start_time": "2024-12-22T05:37:05.350399Z"
    }
   },
   "source": [
    "#print the extract number of each tags\n",
    "print(sorted_tag_counts)\n"
   ],
   "outputs": [
    {
     "name": "stdout",
     "output_type": "stream",
     "text": [
      "{'O': 21797, 'I': 3530, 'B': 3414}\n"
     ]
    }
   ],
   "execution_count": 8
  },
  {
   "cell_type": "markdown",
   "metadata": {},
   "source": [
    "### Mapping Tags to Numbers"
   ]
  },
  {
   "cell_type": "code",
   "metadata": {
    "ExecuteTime": {
     "end_time": "2024-12-22T05:37:05.389867Z",
     "start_time": "2024-12-22T05:37:05.387060Z"
    }
   },
   "source": [
    "# BIO_MAP = {\n",
    "#     'O': 0,\n",
    "#     'B': 1,\n",
    "#     'I': 2\n",
    "# }\n",
    "# \n",
    "# def map_labels(df, mapper):\n",
    "#     for i, tags in enumerate(df['tags']):\n",
    "#         for j, tag in enumerate(tags):\n",
    "#             if not str(tag).isdigit():  # Check that the tag is not a digit\n",
    "#                 if tag in mapper:\n",
    "#                     df['num_tags'][i][j] = mapper[tag]  # Assign mapped value\n",
    "#                 else:\n",
    "#                     raise KeyError(f\"Tag '{tag}' not found in mapper\")\n",
    "# \n",
    "# map_labels(train_df, BIO_MAP)\n",
    "# map_labels(test_df, BIO_MAP)\n",
    "# map_labels(dev_df, BIO_MAP)\n",
    "# \n",
    "# #drop column num_tags\n",
    "# train_df = train_df.drop(columns=['num_tags'])\n",
    "\n",
    "# BIO_MAP = {\n",
    "#     'O': 0,\n",
    "#     'B': 1,\n",
    "#     'I': 2\n",
    "# }\n",
    "# \n",
    "# def convert_bio_to_numeric(bio_tags, bio_map):\n",
    "#     return [bio_map[tag] for tag in bio_tags]\n",
    "# \n",
    "# train_df['num_tags'] = train_df['tags'].apply(lambda x: convert_bio_to_numeric(x, BIO_MAP))\n",
    "# test_df['num_tags'] = test_df['tags'].apply(lambda x: convert_bio_to_numeric(x, BIO_MAP))\n",
    "# dev_df['num_tags'] = dev_df['tags'].apply(lambda x: convert_bio_to_numeric(x, BIO_MAP))"
   ],
   "outputs": [],
   "execution_count": 9
  },
  {
   "cell_type": "code",
   "metadata": {
    "ExecuteTime": {
     "end_time": "2024-12-22T05:37:05.415768Z",
     "start_time": "2024-12-22T05:37:05.412723Z"
    }
   },
   "source": [
    "# train_df"
   ],
   "outputs": [],
   "execution_count": 10
  },
  {
   "cell_type": "markdown",
   "metadata": {},
   "source": [
    "### Convert data to hugging face format"
   ]
  },
  {
   "cell_type": "code",
   "metadata": {
    "ExecuteTime": {
     "end_time": "2024-12-22T05:37:06.122959Z",
     "start_time": "2024-12-22T05:37:05.422772Z"
    }
   },
   "source": [
    "# Convert the data into a Hugging Face dataset\n",
    "from datasets import Dataset\n",
    "dev_hugging_face_dat = Dataset.from_dict({\n",
    "    \"tokens\": dev_df[\"tokens\"],\n",
    "    \"tags\": dev_df[\"tags\"]\n",
    "})\n",
    "\n",
    "train_hugging_face_dat = Dataset.from_dict({\n",
    "    \"tokens\": train_df[\"tokens\"],\n",
    "    \"tags\": train_df[\"tags\"]\n",
    "})\n",
    "\n",
    "test_hugging_face_dat = Dataset.from_dict({\n",
    "    \"tokens\": test_df[\"tokens\"],\n",
    "    \"tags\": test_df[\"tags\"]\n",
    "})\n",
    "\n"
   ],
   "outputs": [],
   "execution_count": 11
  },
  {
   "cell_type": "markdown",
   "metadata": {},
   "source": [
    "### Feature Extraction"
   ]
  },
  {
   "cell_type": "code",
   "metadata": {
    "ExecuteTime": {
     "end_time": "2024-12-22T05:37:06.138636Z",
     "start_time": "2024-12-22T05:37:06.132957Z"
    }
   },
   "source": [
    "def extract_features(tokens, idx):\n",
    "    word = tokens[idx]\n",
    "    features = {\n",
    "        'word': word,  # Current word\n",
    "        'is_upper': word.isupper(),  # Is the word uppercase?\n",
    "        'is_title': word.istitle(),  # Is the word title case?\n",
    "        'is_digit': word.isdigit(),  # Is the word a digit?\n",
    "        'word_len': len(word),  # Length of the word\n",
    "    }\n",
    "    \n",
    "    # Previous word features\n",
    "    if idx > 0:\n",
    "        features['prev_word'] = tokens[idx - 1]\n",
    "    else:\n",
    "        features['prev_word'] = \"<START>\"\n",
    "    \n",
    "    # Next word features\n",
    "    if idx < len(tokens) - 1:\n",
    "        features['next_word'] = tokens[idx + 1]\n",
    "    else:\n",
    "        features['next_word'] = \"<END>\"\n",
    "    \n",
    "    return features\n",
    "\n",
    "def prepare_data_for_crf(dataset):\n",
    "    features = []\n",
    "    labels = []\n",
    "    \n",
    "    for example in dataset:\n",
    "        tokens = example['tokens']\n",
    "        tags = example['tags']\n",
    "        \n",
    "        # Extract features for each token\n",
    "        sentence_features = [extract_features(tokens, idx) for idx in range(len(tokens))]\n",
    "        features.append(sentence_features)\n",
    "        labels.append(tags)\n",
    "    \n",
    "    return features, labels\n"
   ],
   "outputs": [],
   "execution_count": 12
  },
  {
   "cell_type": "code",
   "metadata": {
    "ExecuteTime": {
     "end_time": "2024-12-22T05:37:06.227971Z",
     "start_time": "2024-12-22T05:37:06.148401Z"
    }
   },
   "source": [
    "# Example: Assuming train_dataset is the Hugging Face dataset\n",
    "train_features, train_labels = prepare_data_for_crf(train_hugging_face_dat)\n",
    "test_features, test_labels = prepare_data_for_crf(test_hugging_face_dat)\n"
   ],
   "outputs": [],
   "execution_count": 13
  },
  {
   "cell_type": "code",
   "metadata": {
    "ExecuteTime": {
     "end_time": "2024-12-22T05:37:07.084750Z",
     "start_time": "2024-12-22T05:37:06.240465Z"
    }
   },
   "source": [
    "import sklearn_crfsuite\n",
    "from sklearn_crfsuite import metrics\n",
    "\n",
    "# Initialize the CRF model\n",
    "crf = sklearn_crfsuite.CRF(\n",
    "    algorithm='lbfgs',  # Use LBFGS optimization\n",
    "    max_iterations=100,  # Maximum iterations\n",
    "    all_possible_transitions=True  # Allow all transitions between tags\n",
    ")\n",
    "\n",
    "# Train the model\n",
    "crf.fit(train_features, train_labels)\n"
   ],
   "outputs": [
    {
     "data": {
      "text/plain": [
       "CRF(algorithm='lbfgs', all_possible_transitions=True, max_iterations=100)"
      ],
      "text/html": [
       "<style>#sk-container-id-1 {\n",
       "  /* Definition of color scheme common for light and dark mode */\n",
       "  --sklearn-color-text: black;\n",
       "  --sklearn-color-line: gray;\n",
       "  /* Definition of color scheme for unfitted estimators */\n",
       "  --sklearn-color-unfitted-level-0: #fff5e6;\n",
       "  --sklearn-color-unfitted-level-1: #f6e4d2;\n",
       "  --sklearn-color-unfitted-level-2: #ffe0b3;\n",
       "  --sklearn-color-unfitted-level-3: chocolate;\n",
       "  /* Definition of color scheme for fitted estimators */\n",
       "  --sklearn-color-fitted-level-0: #f0f8ff;\n",
       "  --sklearn-color-fitted-level-1: #d4ebff;\n",
       "  --sklearn-color-fitted-level-2: #b3dbfd;\n",
       "  --sklearn-color-fitted-level-3: cornflowerblue;\n",
       "\n",
       "  /* Specific color for light theme */\n",
       "  --sklearn-color-text-on-default-background: var(--sg-text-color, var(--theme-code-foreground, var(--jp-content-font-color1, black)));\n",
       "  --sklearn-color-background: var(--sg-background-color, var(--theme-background, var(--jp-layout-color0, white)));\n",
       "  --sklearn-color-border-box: var(--sg-text-color, var(--theme-code-foreground, var(--jp-content-font-color1, black)));\n",
       "  --sklearn-color-icon: #696969;\n",
       "\n",
       "  @media (prefers-color-scheme: dark) {\n",
       "    /* Redefinition of color scheme for dark theme */\n",
       "    --sklearn-color-text-on-default-background: var(--sg-text-color, var(--theme-code-foreground, var(--jp-content-font-color1, white)));\n",
       "    --sklearn-color-background: var(--sg-background-color, var(--theme-background, var(--jp-layout-color0, #111)));\n",
       "    --sklearn-color-border-box: var(--sg-text-color, var(--theme-code-foreground, var(--jp-content-font-color1, white)));\n",
       "    --sklearn-color-icon: #878787;\n",
       "  }\n",
       "}\n",
       "\n",
       "#sk-container-id-1 {\n",
       "  color: var(--sklearn-color-text);\n",
       "}\n",
       "\n",
       "#sk-container-id-1 pre {\n",
       "  padding: 0;\n",
       "}\n",
       "\n",
       "#sk-container-id-1 input.sk-hidden--visually {\n",
       "  border: 0;\n",
       "  clip: rect(1px 1px 1px 1px);\n",
       "  clip: rect(1px, 1px, 1px, 1px);\n",
       "  height: 1px;\n",
       "  margin: -1px;\n",
       "  overflow: hidden;\n",
       "  padding: 0;\n",
       "  position: absolute;\n",
       "  width: 1px;\n",
       "}\n",
       "\n",
       "#sk-container-id-1 div.sk-dashed-wrapped {\n",
       "  border: 1px dashed var(--sklearn-color-line);\n",
       "  margin: 0 0.4em 0.5em 0.4em;\n",
       "  box-sizing: border-box;\n",
       "  padding-bottom: 0.4em;\n",
       "  background-color: var(--sklearn-color-background);\n",
       "}\n",
       "\n",
       "#sk-container-id-1 div.sk-container {\n",
       "  /* jupyter's `normalize.less` sets `[hidden] { display: none; }`\n",
       "     but bootstrap.min.css set `[hidden] { display: none !important; }`\n",
       "     so we also need the `!important` here to be able to override the\n",
       "     default hidden behavior on the sphinx rendered scikit-learn.org.\n",
       "     See: https://github.com/scikit-learn/scikit-learn/issues/21755 */\n",
       "  display: inline-block !important;\n",
       "  position: relative;\n",
       "}\n",
       "\n",
       "#sk-container-id-1 div.sk-text-repr-fallback {\n",
       "  display: none;\n",
       "}\n",
       "\n",
       "div.sk-parallel-item,\n",
       "div.sk-serial,\n",
       "div.sk-item {\n",
       "  /* draw centered vertical line to link estimators */\n",
       "  background-image: linear-gradient(var(--sklearn-color-text-on-default-background), var(--sklearn-color-text-on-default-background));\n",
       "  background-size: 2px 100%;\n",
       "  background-repeat: no-repeat;\n",
       "  background-position: center center;\n",
       "}\n",
       "\n",
       "/* Parallel-specific style estimator block */\n",
       "\n",
       "#sk-container-id-1 div.sk-parallel-item::after {\n",
       "  content: \"\";\n",
       "  width: 100%;\n",
       "  border-bottom: 2px solid var(--sklearn-color-text-on-default-background);\n",
       "  flex-grow: 1;\n",
       "}\n",
       "\n",
       "#sk-container-id-1 div.sk-parallel {\n",
       "  display: flex;\n",
       "  align-items: stretch;\n",
       "  justify-content: center;\n",
       "  background-color: var(--sklearn-color-background);\n",
       "  position: relative;\n",
       "}\n",
       "\n",
       "#sk-container-id-1 div.sk-parallel-item {\n",
       "  display: flex;\n",
       "  flex-direction: column;\n",
       "}\n",
       "\n",
       "#sk-container-id-1 div.sk-parallel-item:first-child::after {\n",
       "  align-self: flex-end;\n",
       "  width: 50%;\n",
       "}\n",
       "\n",
       "#sk-container-id-1 div.sk-parallel-item:last-child::after {\n",
       "  align-self: flex-start;\n",
       "  width: 50%;\n",
       "}\n",
       "\n",
       "#sk-container-id-1 div.sk-parallel-item:only-child::after {\n",
       "  width: 0;\n",
       "}\n",
       "\n",
       "/* Serial-specific style estimator block */\n",
       "\n",
       "#sk-container-id-1 div.sk-serial {\n",
       "  display: flex;\n",
       "  flex-direction: column;\n",
       "  align-items: center;\n",
       "  background-color: var(--sklearn-color-background);\n",
       "  padding-right: 1em;\n",
       "  padding-left: 1em;\n",
       "}\n",
       "\n",
       "\n",
       "/* Toggleable style: style used for estimator/Pipeline/ColumnTransformer box that is\n",
       "clickable and can be expanded/collapsed.\n",
       "- Pipeline and ColumnTransformer use this feature and define the default style\n",
       "- Estimators will overwrite some part of the style using the `sk-estimator` class\n",
       "*/\n",
       "\n",
       "/* Pipeline and ColumnTransformer style (default) */\n",
       "\n",
       "#sk-container-id-1 div.sk-toggleable {\n",
       "  /* Default theme specific background. It is overwritten whether we have a\n",
       "  specific estimator or a Pipeline/ColumnTransformer */\n",
       "  background-color: var(--sklearn-color-background);\n",
       "}\n",
       "\n",
       "/* Toggleable label */\n",
       "#sk-container-id-1 label.sk-toggleable__label {\n",
       "  cursor: pointer;\n",
       "  display: block;\n",
       "  width: 100%;\n",
       "  margin-bottom: 0;\n",
       "  padding: 0.5em;\n",
       "  box-sizing: border-box;\n",
       "  text-align: center;\n",
       "}\n",
       "\n",
       "#sk-container-id-1 label.sk-toggleable__label-arrow:before {\n",
       "  /* Arrow on the left of the label */\n",
       "  content: \"▸\";\n",
       "  float: left;\n",
       "  margin-right: 0.25em;\n",
       "  color: var(--sklearn-color-icon);\n",
       "}\n",
       "\n",
       "#sk-container-id-1 label.sk-toggleable__label-arrow:hover:before {\n",
       "  color: var(--sklearn-color-text);\n",
       "}\n",
       "\n",
       "/* Toggleable content - dropdown */\n",
       "\n",
       "#sk-container-id-1 div.sk-toggleable__content {\n",
       "  max-height: 0;\n",
       "  max-width: 0;\n",
       "  overflow: hidden;\n",
       "  text-align: left;\n",
       "  /* unfitted */\n",
       "  background-color: var(--sklearn-color-unfitted-level-0);\n",
       "}\n",
       "\n",
       "#sk-container-id-1 div.sk-toggleable__content.fitted {\n",
       "  /* fitted */\n",
       "  background-color: var(--sklearn-color-fitted-level-0);\n",
       "}\n",
       "\n",
       "#sk-container-id-1 div.sk-toggleable__content pre {\n",
       "  margin: 0.2em;\n",
       "  border-radius: 0.25em;\n",
       "  color: var(--sklearn-color-text);\n",
       "  /* unfitted */\n",
       "  background-color: var(--sklearn-color-unfitted-level-0);\n",
       "}\n",
       "\n",
       "#sk-container-id-1 div.sk-toggleable__content.fitted pre {\n",
       "  /* unfitted */\n",
       "  background-color: var(--sklearn-color-fitted-level-0);\n",
       "}\n",
       "\n",
       "#sk-container-id-1 input.sk-toggleable__control:checked~div.sk-toggleable__content {\n",
       "  /* Expand drop-down */\n",
       "  max-height: 200px;\n",
       "  max-width: 100%;\n",
       "  overflow: auto;\n",
       "}\n",
       "\n",
       "#sk-container-id-1 input.sk-toggleable__control:checked~label.sk-toggleable__label-arrow:before {\n",
       "  content: \"▾\";\n",
       "}\n",
       "\n",
       "/* Pipeline/ColumnTransformer-specific style */\n",
       "\n",
       "#sk-container-id-1 div.sk-label input.sk-toggleable__control:checked~label.sk-toggleable__label {\n",
       "  color: var(--sklearn-color-text);\n",
       "  background-color: var(--sklearn-color-unfitted-level-2);\n",
       "}\n",
       "\n",
       "#sk-container-id-1 div.sk-label.fitted input.sk-toggleable__control:checked~label.sk-toggleable__label {\n",
       "  background-color: var(--sklearn-color-fitted-level-2);\n",
       "}\n",
       "\n",
       "/* Estimator-specific style */\n",
       "\n",
       "/* Colorize estimator box */\n",
       "#sk-container-id-1 div.sk-estimator input.sk-toggleable__control:checked~label.sk-toggleable__label {\n",
       "  /* unfitted */\n",
       "  background-color: var(--sklearn-color-unfitted-level-2);\n",
       "}\n",
       "\n",
       "#sk-container-id-1 div.sk-estimator.fitted input.sk-toggleable__control:checked~label.sk-toggleable__label {\n",
       "  /* fitted */\n",
       "  background-color: var(--sklearn-color-fitted-level-2);\n",
       "}\n",
       "\n",
       "#sk-container-id-1 div.sk-label label.sk-toggleable__label,\n",
       "#sk-container-id-1 div.sk-label label {\n",
       "  /* The background is the default theme color */\n",
       "  color: var(--sklearn-color-text-on-default-background);\n",
       "}\n",
       "\n",
       "/* On hover, darken the color of the background */\n",
       "#sk-container-id-1 div.sk-label:hover label.sk-toggleable__label {\n",
       "  color: var(--sklearn-color-text);\n",
       "  background-color: var(--sklearn-color-unfitted-level-2);\n",
       "}\n",
       "\n",
       "/* Label box, darken color on hover, fitted */\n",
       "#sk-container-id-1 div.sk-label.fitted:hover label.sk-toggleable__label.fitted {\n",
       "  color: var(--sklearn-color-text);\n",
       "  background-color: var(--sklearn-color-fitted-level-2);\n",
       "}\n",
       "\n",
       "/* Estimator label */\n",
       "\n",
       "#sk-container-id-1 div.sk-label label {\n",
       "  font-family: monospace;\n",
       "  font-weight: bold;\n",
       "  display: inline-block;\n",
       "  line-height: 1.2em;\n",
       "}\n",
       "\n",
       "#sk-container-id-1 div.sk-label-container {\n",
       "  text-align: center;\n",
       "}\n",
       "\n",
       "/* Estimator-specific */\n",
       "#sk-container-id-1 div.sk-estimator {\n",
       "  font-family: monospace;\n",
       "  border: 1px dotted var(--sklearn-color-border-box);\n",
       "  border-radius: 0.25em;\n",
       "  box-sizing: border-box;\n",
       "  margin-bottom: 0.5em;\n",
       "  /* unfitted */\n",
       "  background-color: var(--sklearn-color-unfitted-level-0);\n",
       "}\n",
       "\n",
       "#sk-container-id-1 div.sk-estimator.fitted {\n",
       "  /* fitted */\n",
       "  background-color: var(--sklearn-color-fitted-level-0);\n",
       "}\n",
       "\n",
       "/* on hover */\n",
       "#sk-container-id-1 div.sk-estimator:hover {\n",
       "  /* unfitted */\n",
       "  background-color: var(--sklearn-color-unfitted-level-2);\n",
       "}\n",
       "\n",
       "#sk-container-id-1 div.sk-estimator.fitted:hover {\n",
       "  /* fitted */\n",
       "  background-color: var(--sklearn-color-fitted-level-2);\n",
       "}\n",
       "\n",
       "/* Specification for estimator info (e.g. \"i\" and \"?\") */\n",
       "\n",
       "/* Common style for \"i\" and \"?\" */\n",
       "\n",
       ".sk-estimator-doc-link,\n",
       "a:link.sk-estimator-doc-link,\n",
       "a:visited.sk-estimator-doc-link {\n",
       "  float: right;\n",
       "  font-size: smaller;\n",
       "  line-height: 1em;\n",
       "  font-family: monospace;\n",
       "  background-color: var(--sklearn-color-background);\n",
       "  border-radius: 1em;\n",
       "  height: 1em;\n",
       "  width: 1em;\n",
       "  text-decoration: none !important;\n",
       "  margin-left: 1ex;\n",
       "  /* unfitted */\n",
       "  border: var(--sklearn-color-unfitted-level-1) 1pt solid;\n",
       "  color: var(--sklearn-color-unfitted-level-1);\n",
       "}\n",
       "\n",
       ".sk-estimator-doc-link.fitted,\n",
       "a:link.sk-estimator-doc-link.fitted,\n",
       "a:visited.sk-estimator-doc-link.fitted {\n",
       "  /* fitted */\n",
       "  border: var(--sklearn-color-fitted-level-1) 1pt solid;\n",
       "  color: var(--sklearn-color-fitted-level-1);\n",
       "}\n",
       "\n",
       "/* On hover */\n",
       "div.sk-estimator:hover .sk-estimator-doc-link:hover,\n",
       ".sk-estimator-doc-link:hover,\n",
       "div.sk-label-container:hover .sk-estimator-doc-link:hover,\n",
       ".sk-estimator-doc-link:hover {\n",
       "  /* unfitted */\n",
       "  background-color: var(--sklearn-color-unfitted-level-3);\n",
       "  color: var(--sklearn-color-background);\n",
       "  text-decoration: none;\n",
       "}\n",
       "\n",
       "div.sk-estimator.fitted:hover .sk-estimator-doc-link.fitted:hover,\n",
       ".sk-estimator-doc-link.fitted:hover,\n",
       "div.sk-label-container:hover .sk-estimator-doc-link.fitted:hover,\n",
       ".sk-estimator-doc-link.fitted:hover {\n",
       "  /* fitted */\n",
       "  background-color: var(--sklearn-color-fitted-level-3);\n",
       "  color: var(--sklearn-color-background);\n",
       "  text-decoration: none;\n",
       "}\n",
       "\n",
       "/* Span, style for the box shown on hovering the info icon */\n",
       ".sk-estimator-doc-link span {\n",
       "  display: none;\n",
       "  z-index: 9999;\n",
       "  position: relative;\n",
       "  font-weight: normal;\n",
       "  right: .2ex;\n",
       "  padding: .5ex;\n",
       "  margin: .5ex;\n",
       "  width: min-content;\n",
       "  min-width: 20ex;\n",
       "  max-width: 50ex;\n",
       "  color: var(--sklearn-color-text);\n",
       "  box-shadow: 2pt 2pt 4pt #999;\n",
       "  /* unfitted */\n",
       "  background: var(--sklearn-color-unfitted-level-0);\n",
       "  border: .5pt solid var(--sklearn-color-unfitted-level-3);\n",
       "}\n",
       "\n",
       ".sk-estimator-doc-link.fitted span {\n",
       "  /* fitted */\n",
       "  background: var(--sklearn-color-fitted-level-0);\n",
       "  border: var(--sklearn-color-fitted-level-3);\n",
       "}\n",
       "\n",
       ".sk-estimator-doc-link:hover span {\n",
       "  display: block;\n",
       "}\n",
       "\n",
       "/* \"?\"-specific style due to the `<a>` HTML tag */\n",
       "\n",
       "#sk-container-id-1 a.estimator_doc_link {\n",
       "  float: right;\n",
       "  font-size: 1rem;\n",
       "  line-height: 1em;\n",
       "  font-family: monospace;\n",
       "  background-color: var(--sklearn-color-background);\n",
       "  border-radius: 1rem;\n",
       "  height: 1rem;\n",
       "  width: 1rem;\n",
       "  text-decoration: none;\n",
       "  /* unfitted */\n",
       "  color: var(--sklearn-color-unfitted-level-1);\n",
       "  border: var(--sklearn-color-unfitted-level-1) 1pt solid;\n",
       "}\n",
       "\n",
       "#sk-container-id-1 a.estimator_doc_link.fitted {\n",
       "  /* fitted */\n",
       "  border: var(--sklearn-color-fitted-level-1) 1pt solid;\n",
       "  color: var(--sklearn-color-fitted-level-1);\n",
       "}\n",
       "\n",
       "/* On hover */\n",
       "#sk-container-id-1 a.estimator_doc_link:hover {\n",
       "  /* unfitted */\n",
       "  background-color: var(--sklearn-color-unfitted-level-3);\n",
       "  color: var(--sklearn-color-background);\n",
       "  text-decoration: none;\n",
       "}\n",
       "\n",
       "#sk-container-id-1 a.estimator_doc_link.fitted:hover {\n",
       "  /* fitted */\n",
       "  background-color: var(--sklearn-color-fitted-level-3);\n",
       "}\n",
       "</style><div id=\"sk-container-id-1\" class=\"sk-top-container\"><div class=\"sk-text-repr-fallback\"><pre>CRF(algorithm=&#x27;lbfgs&#x27;, all_possible_transitions=True, max_iterations=100)</pre><b>In a Jupyter environment, please rerun this cell to show the HTML representation or trust the notebook. <br />On GitHub, the HTML representation is unable to render, please try loading this page with nbviewer.org.</b></div><div class=\"sk-container\" hidden><div class=\"sk-item\"><div class=\"sk-estimator fitted sk-toggleable\"><input class=\"sk-toggleable__control sk-hidden--visually\" id=\"sk-estimator-id-1\" type=\"checkbox\" checked><label for=\"sk-estimator-id-1\" class=\"sk-toggleable__label fitted sk-toggleable__label-arrow fitted\">&nbsp;CRF<span class=\"sk-estimator-doc-link fitted\">i<span>Fitted</span></span></label><div class=\"sk-toggleable__content fitted\"><pre>CRF(algorithm=&#x27;lbfgs&#x27;, all_possible_transitions=True, max_iterations=100)</pre></div> </div></div></div></div>"
      ]
     },
     "execution_count": 14,
     "metadata": {},
     "output_type": "execute_result"
    }
   ],
   "execution_count": 14
  },
  {
   "cell_type": "code",
   "metadata": {
    "ExecuteTime": {
     "end_time": "2024-12-22T05:37:07.268905Z",
     "start_time": "2024-12-22T05:37:07.111579Z"
    }
   },
   "source": [
    "# Make predictions on the test set\n",
    "predicted_labels = crf.predict(test_features)\n",
    "\n",
    "# Evaluate the model's performance\n",
    "print(metrics.flat_classification_report(test_labels, predicted_labels))\n"
   ],
   "outputs": [
    {
     "name": "stdout",
     "output_type": "stream",
     "text": [
      "              precision    recall  f1-score   support\n",
      "\n",
      "           B       0.62      0.45      0.52       451\n",
      "           I       0.69      0.65      0.67       488\n",
      "           O       0.89      0.94      0.91      3205\n",
      "\n",
      "    accuracy                           0.85      4144\n",
      "   macro avg       0.74      0.68      0.70      4144\n",
      "weighted avg       0.84      0.85      0.84      4144\n",
      "\n"
     ]
    }
   ],
   "execution_count": 15
  },
  {
   "cell_type": "code",
   "metadata": {
    "ExecuteTime": {
     "end_time": "2024-12-22T05:37:08.099622Z",
     "start_time": "2024-12-22T05:37:07.298577Z"
    }
   },
   "source": [
    "# Hyperparameter tuning example (you can use grid search for this)\n",
    "crf = sklearn_crfsuite.CRF(\n",
    "    algorithm='lbfgs',\n",
    "    c1=0.1,\n",
    "    c2=0.1,\n",
    "    max_iterations=100,\n",
    "    all_possible_transitions=True\n",
    ")\n",
    "crf.fit(train_features, train_labels)\n"
   ],
   "outputs": [
    {
     "data": {
      "text/plain": [
       "CRF(algorithm='lbfgs', all_possible_transitions=True, c1=0.1, c2=0.1,\n",
       "    max_iterations=100)"
      ],
      "text/html": [
       "<style>#sk-container-id-2 {\n",
       "  /* Definition of color scheme common for light and dark mode */\n",
       "  --sklearn-color-text: black;\n",
       "  --sklearn-color-line: gray;\n",
       "  /* Definition of color scheme for unfitted estimators */\n",
       "  --sklearn-color-unfitted-level-0: #fff5e6;\n",
       "  --sklearn-color-unfitted-level-1: #f6e4d2;\n",
       "  --sklearn-color-unfitted-level-2: #ffe0b3;\n",
       "  --sklearn-color-unfitted-level-3: chocolate;\n",
       "  /* Definition of color scheme for fitted estimators */\n",
       "  --sklearn-color-fitted-level-0: #f0f8ff;\n",
       "  --sklearn-color-fitted-level-1: #d4ebff;\n",
       "  --sklearn-color-fitted-level-2: #b3dbfd;\n",
       "  --sklearn-color-fitted-level-3: cornflowerblue;\n",
       "\n",
       "  /* Specific color for light theme */\n",
       "  --sklearn-color-text-on-default-background: var(--sg-text-color, var(--theme-code-foreground, var(--jp-content-font-color1, black)));\n",
       "  --sklearn-color-background: var(--sg-background-color, var(--theme-background, var(--jp-layout-color0, white)));\n",
       "  --sklearn-color-border-box: var(--sg-text-color, var(--theme-code-foreground, var(--jp-content-font-color1, black)));\n",
       "  --sklearn-color-icon: #696969;\n",
       "\n",
       "  @media (prefers-color-scheme: dark) {\n",
       "    /* Redefinition of color scheme for dark theme */\n",
       "    --sklearn-color-text-on-default-background: var(--sg-text-color, var(--theme-code-foreground, var(--jp-content-font-color1, white)));\n",
       "    --sklearn-color-background: var(--sg-background-color, var(--theme-background, var(--jp-layout-color0, #111)));\n",
       "    --sklearn-color-border-box: var(--sg-text-color, var(--theme-code-foreground, var(--jp-content-font-color1, white)));\n",
       "    --sklearn-color-icon: #878787;\n",
       "  }\n",
       "}\n",
       "\n",
       "#sk-container-id-2 {\n",
       "  color: var(--sklearn-color-text);\n",
       "}\n",
       "\n",
       "#sk-container-id-2 pre {\n",
       "  padding: 0;\n",
       "}\n",
       "\n",
       "#sk-container-id-2 input.sk-hidden--visually {\n",
       "  border: 0;\n",
       "  clip: rect(1px 1px 1px 1px);\n",
       "  clip: rect(1px, 1px, 1px, 1px);\n",
       "  height: 1px;\n",
       "  margin: -1px;\n",
       "  overflow: hidden;\n",
       "  padding: 0;\n",
       "  position: absolute;\n",
       "  width: 1px;\n",
       "}\n",
       "\n",
       "#sk-container-id-2 div.sk-dashed-wrapped {\n",
       "  border: 1px dashed var(--sklearn-color-line);\n",
       "  margin: 0 0.4em 0.5em 0.4em;\n",
       "  box-sizing: border-box;\n",
       "  padding-bottom: 0.4em;\n",
       "  background-color: var(--sklearn-color-background);\n",
       "}\n",
       "\n",
       "#sk-container-id-2 div.sk-container {\n",
       "  /* jupyter's `normalize.less` sets `[hidden] { display: none; }`\n",
       "     but bootstrap.min.css set `[hidden] { display: none !important; }`\n",
       "     so we also need the `!important` here to be able to override the\n",
       "     default hidden behavior on the sphinx rendered scikit-learn.org.\n",
       "     See: https://github.com/scikit-learn/scikit-learn/issues/21755 */\n",
       "  display: inline-block !important;\n",
       "  position: relative;\n",
       "}\n",
       "\n",
       "#sk-container-id-2 div.sk-text-repr-fallback {\n",
       "  display: none;\n",
       "}\n",
       "\n",
       "div.sk-parallel-item,\n",
       "div.sk-serial,\n",
       "div.sk-item {\n",
       "  /* draw centered vertical line to link estimators */\n",
       "  background-image: linear-gradient(var(--sklearn-color-text-on-default-background), var(--sklearn-color-text-on-default-background));\n",
       "  background-size: 2px 100%;\n",
       "  background-repeat: no-repeat;\n",
       "  background-position: center center;\n",
       "}\n",
       "\n",
       "/* Parallel-specific style estimator block */\n",
       "\n",
       "#sk-container-id-2 div.sk-parallel-item::after {\n",
       "  content: \"\";\n",
       "  width: 100%;\n",
       "  border-bottom: 2px solid var(--sklearn-color-text-on-default-background);\n",
       "  flex-grow: 1;\n",
       "}\n",
       "\n",
       "#sk-container-id-2 div.sk-parallel {\n",
       "  display: flex;\n",
       "  align-items: stretch;\n",
       "  justify-content: center;\n",
       "  background-color: var(--sklearn-color-background);\n",
       "  position: relative;\n",
       "}\n",
       "\n",
       "#sk-container-id-2 div.sk-parallel-item {\n",
       "  display: flex;\n",
       "  flex-direction: column;\n",
       "}\n",
       "\n",
       "#sk-container-id-2 div.sk-parallel-item:first-child::after {\n",
       "  align-self: flex-end;\n",
       "  width: 50%;\n",
       "}\n",
       "\n",
       "#sk-container-id-2 div.sk-parallel-item:last-child::after {\n",
       "  align-self: flex-start;\n",
       "  width: 50%;\n",
       "}\n",
       "\n",
       "#sk-container-id-2 div.sk-parallel-item:only-child::after {\n",
       "  width: 0;\n",
       "}\n",
       "\n",
       "/* Serial-specific style estimator block */\n",
       "\n",
       "#sk-container-id-2 div.sk-serial {\n",
       "  display: flex;\n",
       "  flex-direction: column;\n",
       "  align-items: center;\n",
       "  background-color: var(--sklearn-color-background);\n",
       "  padding-right: 1em;\n",
       "  padding-left: 1em;\n",
       "}\n",
       "\n",
       "\n",
       "/* Toggleable style: style used for estimator/Pipeline/ColumnTransformer box that is\n",
       "clickable and can be expanded/collapsed.\n",
       "- Pipeline and ColumnTransformer use this feature and define the default style\n",
       "- Estimators will overwrite some part of the style using the `sk-estimator` class\n",
       "*/\n",
       "\n",
       "/* Pipeline and ColumnTransformer style (default) */\n",
       "\n",
       "#sk-container-id-2 div.sk-toggleable {\n",
       "  /* Default theme specific background. It is overwritten whether we have a\n",
       "  specific estimator or a Pipeline/ColumnTransformer */\n",
       "  background-color: var(--sklearn-color-background);\n",
       "}\n",
       "\n",
       "/* Toggleable label */\n",
       "#sk-container-id-2 label.sk-toggleable__label {\n",
       "  cursor: pointer;\n",
       "  display: block;\n",
       "  width: 100%;\n",
       "  margin-bottom: 0;\n",
       "  padding: 0.5em;\n",
       "  box-sizing: border-box;\n",
       "  text-align: center;\n",
       "}\n",
       "\n",
       "#sk-container-id-2 label.sk-toggleable__label-arrow:before {\n",
       "  /* Arrow on the left of the label */\n",
       "  content: \"▸\";\n",
       "  float: left;\n",
       "  margin-right: 0.25em;\n",
       "  color: var(--sklearn-color-icon);\n",
       "}\n",
       "\n",
       "#sk-container-id-2 label.sk-toggleable__label-arrow:hover:before {\n",
       "  color: var(--sklearn-color-text);\n",
       "}\n",
       "\n",
       "/* Toggleable content - dropdown */\n",
       "\n",
       "#sk-container-id-2 div.sk-toggleable__content {\n",
       "  max-height: 0;\n",
       "  max-width: 0;\n",
       "  overflow: hidden;\n",
       "  text-align: left;\n",
       "  /* unfitted */\n",
       "  background-color: var(--sklearn-color-unfitted-level-0);\n",
       "}\n",
       "\n",
       "#sk-container-id-2 div.sk-toggleable__content.fitted {\n",
       "  /* fitted */\n",
       "  background-color: var(--sklearn-color-fitted-level-0);\n",
       "}\n",
       "\n",
       "#sk-container-id-2 div.sk-toggleable__content pre {\n",
       "  margin: 0.2em;\n",
       "  border-radius: 0.25em;\n",
       "  color: var(--sklearn-color-text);\n",
       "  /* unfitted */\n",
       "  background-color: var(--sklearn-color-unfitted-level-0);\n",
       "}\n",
       "\n",
       "#sk-container-id-2 div.sk-toggleable__content.fitted pre {\n",
       "  /* unfitted */\n",
       "  background-color: var(--sklearn-color-fitted-level-0);\n",
       "}\n",
       "\n",
       "#sk-container-id-2 input.sk-toggleable__control:checked~div.sk-toggleable__content {\n",
       "  /* Expand drop-down */\n",
       "  max-height: 200px;\n",
       "  max-width: 100%;\n",
       "  overflow: auto;\n",
       "}\n",
       "\n",
       "#sk-container-id-2 input.sk-toggleable__control:checked~label.sk-toggleable__label-arrow:before {\n",
       "  content: \"▾\";\n",
       "}\n",
       "\n",
       "/* Pipeline/ColumnTransformer-specific style */\n",
       "\n",
       "#sk-container-id-2 div.sk-label input.sk-toggleable__control:checked~label.sk-toggleable__label {\n",
       "  color: var(--sklearn-color-text);\n",
       "  background-color: var(--sklearn-color-unfitted-level-2);\n",
       "}\n",
       "\n",
       "#sk-container-id-2 div.sk-label.fitted input.sk-toggleable__control:checked~label.sk-toggleable__label {\n",
       "  background-color: var(--sklearn-color-fitted-level-2);\n",
       "}\n",
       "\n",
       "/* Estimator-specific style */\n",
       "\n",
       "/* Colorize estimator box */\n",
       "#sk-container-id-2 div.sk-estimator input.sk-toggleable__control:checked~label.sk-toggleable__label {\n",
       "  /* unfitted */\n",
       "  background-color: var(--sklearn-color-unfitted-level-2);\n",
       "}\n",
       "\n",
       "#sk-container-id-2 div.sk-estimator.fitted input.sk-toggleable__control:checked~label.sk-toggleable__label {\n",
       "  /* fitted */\n",
       "  background-color: var(--sklearn-color-fitted-level-2);\n",
       "}\n",
       "\n",
       "#sk-container-id-2 div.sk-label label.sk-toggleable__label,\n",
       "#sk-container-id-2 div.sk-label label {\n",
       "  /* The background is the default theme color */\n",
       "  color: var(--sklearn-color-text-on-default-background);\n",
       "}\n",
       "\n",
       "/* On hover, darken the color of the background */\n",
       "#sk-container-id-2 div.sk-label:hover label.sk-toggleable__label {\n",
       "  color: var(--sklearn-color-text);\n",
       "  background-color: var(--sklearn-color-unfitted-level-2);\n",
       "}\n",
       "\n",
       "/* Label box, darken color on hover, fitted */\n",
       "#sk-container-id-2 div.sk-label.fitted:hover label.sk-toggleable__label.fitted {\n",
       "  color: var(--sklearn-color-text);\n",
       "  background-color: var(--sklearn-color-fitted-level-2);\n",
       "}\n",
       "\n",
       "/* Estimator label */\n",
       "\n",
       "#sk-container-id-2 div.sk-label label {\n",
       "  font-family: monospace;\n",
       "  font-weight: bold;\n",
       "  display: inline-block;\n",
       "  line-height: 1.2em;\n",
       "}\n",
       "\n",
       "#sk-container-id-2 div.sk-label-container {\n",
       "  text-align: center;\n",
       "}\n",
       "\n",
       "/* Estimator-specific */\n",
       "#sk-container-id-2 div.sk-estimator {\n",
       "  font-family: monospace;\n",
       "  border: 1px dotted var(--sklearn-color-border-box);\n",
       "  border-radius: 0.25em;\n",
       "  box-sizing: border-box;\n",
       "  margin-bottom: 0.5em;\n",
       "  /* unfitted */\n",
       "  background-color: var(--sklearn-color-unfitted-level-0);\n",
       "}\n",
       "\n",
       "#sk-container-id-2 div.sk-estimator.fitted {\n",
       "  /* fitted */\n",
       "  background-color: var(--sklearn-color-fitted-level-0);\n",
       "}\n",
       "\n",
       "/* on hover */\n",
       "#sk-container-id-2 div.sk-estimator:hover {\n",
       "  /* unfitted */\n",
       "  background-color: var(--sklearn-color-unfitted-level-2);\n",
       "}\n",
       "\n",
       "#sk-container-id-2 div.sk-estimator.fitted:hover {\n",
       "  /* fitted */\n",
       "  background-color: var(--sklearn-color-fitted-level-2);\n",
       "}\n",
       "\n",
       "/* Specification for estimator info (e.g. \"i\" and \"?\") */\n",
       "\n",
       "/* Common style for \"i\" and \"?\" */\n",
       "\n",
       ".sk-estimator-doc-link,\n",
       "a:link.sk-estimator-doc-link,\n",
       "a:visited.sk-estimator-doc-link {\n",
       "  float: right;\n",
       "  font-size: smaller;\n",
       "  line-height: 1em;\n",
       "  font-family: monospace;\n",
       "  background-color: var(--sklearn-color-background);\n",
       "  border-radius: 1em;\n",
       "  height: 1em;\n",
       "  width: 1em;\n",
       "  text-decoration: none !important;\n",
       "  margin-left: 1ex;\n",
       "  /* unfitted */\n",
       "  border: var(--sklearn-color-unfitted-level-1) 1pt solid;\n",
       "  color: var(--sklearn-color-unfitted-level-1);\n",
       "}\n",
       "\n",
       ".sk-estimator-doc-link.fitted,\n",
       "a:link.sk-estimator-doc-link.fitted,\n",
       "a:visited.sk-estimator-doc-link.fitted {\n",
       "  /* fitted */\n",
       "  border: var(--sklearn-color-fitted-level-1) 1pt solid;\n",
       "  color: var(--sklearn-color-fitted-level-1);\n",
       "}\n",
       "\n",
       "/* On hover */\n",
       "div.sk-estimator:hover .sk-estimator-doc-link:hover,\n",
       ".sk-estimator-doc-link:hover,\n",
       "div.sk-label-container:hover .sk-estimator-doc-link:hover,\n",
       ".sk-estimator-doc-link:hover {\n",
       "  /* unfitted */\n",
       "  background-color: var(--sklearn-color-unfitted-level-3);\n",
       "  color: var(--sklearn-color-background);\n",
       "  text-decoration: none;\n",
       "}\n",
       "\n",
       "div.sk-estimator.fitted:hover .sk-estimator-doc-link.fitted:hover,\n",
       ".sk-estimator-doc-link.fitted:hover,\n",
       "div.sk-label-container:hover .sk-estimator-doc-link.fitted:hover,\n",
       ".sk-estimator-doc-link.fitted:hover {\n",
       "  /* fitted */\n",
       "  background-color: var(--sklearn-color-fitted-level-3);\n",
       "  color: var(--sklearn-color-background);\n",
       "  text-decoration: none;\n",
       "}\n",
       "\n",
       "/* Span, style for the box shown on hovering the info icon */\n",
       ".sk-estimator-doc-link span {\n",
       "  display: none;\n",
       "  z-index: 9999;\n",
       "  position: relative;\n",
       "  font-weight: normal;\n",
       "  right: .2ex;\n",
       "  padding: .5ex;\n",
       "  margin: .5ex;\n",
       "  width: min-content;\n",
       "  min-width: 20ex;\n",
       "  max-width: 50ex;\n",
       "  color: var(--sklearn-color-text);\n",
       "  box-shadow: 2pt 2pt 4pt #999;\n",
       "  /* unfitted */\n",
       "  background: var(--sklearn-color-unfitted-level-0);\n",
       "  border: .5pt solid var(--sklearn-color-unfitted-level-3);\n",
       "}\n",
       "\n",
       ".sk-estimator-doc-link.fitted span {\n",
       "  /* fitted */\n",
       "  background: var(--sklearn-color-fitted-level-0);\n",
       "  border: var(--sklearn-color-fitted-level-3);\n",
       "}\n",
       "\n",
       ".sk-estimator-doc-link:hover span {\n",
       "  display: block;\n",
       "}\n",
       "\n",
       "/* \"?\"-specific style due to the `<a>` HTML tag */\n",
       "\n",
       "#sk-container-id-2 a.estimator_doc_link {\n",
       "  float: right;\n",
       "  font-size: 1rem;\n",
       "  line-height: 1em;\n",
       "  font-family: monospace;\n",
       "  background-color: var(--sklearn-color-background);\n",
       "  border-radius: 1rem;\n",
       "  height: 1rem;\n",
       "  width: 1rem;\n",
       "  text-decoration: none;\n",
       "  /* unfitted */\n",
       "  color: var(--sklearn-color-unfitted-level-1);\n",
       "  border: var(--sklearn-color-unfitted-level-1) 1pt solid;\n",
       "}\n",
       "\n",
       "#sk-container-id-2 a.estimator_doc_link.fitted {\n",
       "  /* fitted */\n",
       "  border: var(--sklearn-color-fitted-level-1) 1pt solid;\n",
       "  color: var(--sklearn-color-fitted-level-1);\n",
       "}\n",
       "\n",
       "/* On hover */\n",
       "#sk-container-id-2 a.estimator_doc_link:hover {\n",
       "  /* unfitted */\n",
       "  background-color: var(--sklearn-color-unfitted-level-3);\n",
       "  color: var(--sklearn-color-background);\n",
       "  text-decoration: none;\n",
       "}\n",
       "\n",
       "#sk-container-id-2 a.estimator_doc_link.fitted:hover {\n",
       "  /* fitted */\n",
       "  background-color: var(--sklearn-color-fitted-level-3);\n",
       "}\n",
       "</style><div id=\"sk-container-id-2\" class=\"sk-top-container\"><div class=\"sk-text-repr-fallback\"><pre>CRF(algorithm=&#x27;lbfgs&#x27;, all_possible_transitions=True, c1=0.1, c2=0.1,\n",
       "    max_iterations=100)</pre><b>In a Jupyter environment, please rerun this cell to show the HTML representation or trust the notebook. <br />On GitHub, the HTML representation is unable to render, please try loading this page with nbviewer.org.</b></div><div class=\"sk-container\" hidden><div class=\"sk-item\"><div class=\"sk-estimator fitted sk-toggleable\"><input class=\"sk-toggleable__control sk-hidden--visually\" id=\"sk-estimator-id-2\" type=\"checkbox\" checked><label for=\"sk-estimator-id-2\" class=\"sk-toggleable__label fitted sk-toggleable__label-arrow fitted\">&nbsp;CRF<span class=\"sk-estimator-doc-link fitted\">i<span>Fitted</span></span></label><div class=\"sk-toggleable__content fitted\"><pre>CRF(algorithm=&#x27;lbfgs&#x27;, all_possible_transitions=True, c1=0.1, c2=0.1,\n",
       "    max_iterations=100)</pre></div> </div></div></div></div>"
      ]
     },
     "execution_count": 16,
     "metadata": {},
     "output_type": "execute_result"
    }
   ],
   "execution_count": 16
  },
  {
   "cell_type": "code",
   "metadata": {
    "ExecuteTime": {
     "end_time": "2024-12-22T05:37:08.121228Z",
     "start_time": "2024-12-22T05:37:08.109056Z"
    }
   },
   "source": [
    "def predict_tags(tokens):\n",
    "    features = [extract_features(tokens, idx) for idx in range(len(tokens))]  # Extract features for the new tokens\n",
    "    predicted_tags = crf.predict([features])  # Get predicted tags\n",
    "    return predicted_tags[0]\n",
    "\n",
    "# Example usage\n",
    "new_tokens = [\"This\", \"is\", \"an\", \"natural\", \"language\"]\n",
    "predicted_tags = predict_tags(new_tokens)\n",
    "print(list(zip(new_tokens, predicted_tags)))\n"
   ],
   "outputs": [
    {
     "name": "stdout",
     "output_type": "stream",
     "text": [
      "[('This', 'O'), ('is', 'O'), ('an', 'O'), ('natural', 'B'), ('language', 'I')]\n"
     ]
    }
   ],
   "execution_count": 17
  },
  {
   "cell_type": "code",
   "metadata": {
    "ExecuteTime": {
     "end_time": "2024-12-22T05:37:08.176854Z",
     "start_time": "2024-12-22T05:37:08.148424Z"
    }
   },
   "source": [
    "# Make predictions on the test set\n",
    "predicted_labels = crf.predict(test_features)\n",
    "\n",
    "# Evaluate the model's performance\n",
    "print(metrics.flat_classification_report(test_labels, predicted_labels))\n"
   ],
   "outputs": [
    {
     "name": "stdout",
     "output_type": "stream",
     "text": [
      "              precision    recall  f1-score   support\n",
      "\n",
      "           B       0.66      0.54      0.60       451\n",
      "           I       0.73      0.68      0.70       488\n",
      "           O       0.91      0.94      0.92      3205\n",
      "\n",
      "    accuracy                           0.87      4144\n",
      "   macro avg       0.77      0.72      0.74      4144\n",
      "weighted avg       0.86      0.87      0.86      4144\n",
      "\n"
     ]
    }
   ],
   "execution_count": 18
  },
  {
   "cell_type": "code",
   "metadata": {
    "ExecuteTime": {
     "end_time": "2024-12-22T05:37:08.341723Z",
     "start_time": "2024-12-22T05:37:08.189256Z"
    }
   },
   "source": [
    "# plot confusion matrix\n",
    "import numpy as np\n",
    "import matplotlib.pyplot as plt\n",
    "import seaborn as sns\n",
    "from sklearn.metrics import confusion_matrix\n",
    "\n",
    "def plot_confusion_matrix(y_true, y_pred, classes):\n",
    "    \n",
    "    # Compute confusion matrix\n",
    "    cm = confusion_matrix(y_true, y_pred)\n",
    "    \n",
    "    # Create a DataFrame from the confusion matrix\n",
    "    cm_df = pd.DataFrame(cm, index=classes, columns=classes)\n",
    "    \n",
    "    # Plot the heatmap\n",
    "    plt.figure(figsize=(10, 8))\n",
    "    sns.heatmap(cm_df, annot=True, cmap='Blues', fmt='d')\n",
    "    plt.title('Confusion Matrix')\n",
    "    plt.ylabel('True Label')\n",
    "    plt.xlabel('Predicted Label')\n",
    "    plt.show()\n",
    "    \n",
    "# Get the unique tags\n",
    "unique_tags = list(set(tag for tags in test_labels for tag in tags))\n",
    "\n",
    "# Plot the confusion matrix\n",
    "plot_confusion_matrix([tag for tags in test_labels for tag in tags], [tag for tags in predicted_labels for tag in tags], unique_tags)\n",
    "\n"
   ],
   "outputs": [
    {
     "data": {
      "text/plain": [
       "<Figure size 1000x800 with 2 Axes>"
      ],
      "image/png": "[encoded data removed]"
     },
     "metadata": {},
     "output_type": "display_data"
    }
   ],
   "execution_count": 19
  },
  {
   "cell_type": "code",
   "metadata": {
    "ExecuteTime": {
     "end_time": "2024-12-22T05:37:08.357344Z",
     "start_time": "2024-12-22T05:37:08.354717Z"
    }
   },
   "source": [
    "# # save the model\n",
    "# import joblib\n",
    "# joblib.dump(crf, 'crf_model.pkl')\n"
   ],
   "outputs": [],
   "execution_count": 20
  },
  {
   "cell_type": "markdown",
   "metadata": {},
   "source": [
    "### NER implementation using a neural sequence model based on RNNs (LSTMs)"
   ]
  },
  {
   "cell_type": "code",
   "metadata": {
    "ExecuteTime": {
     "end_time": "2024-12-22T05:37:09.775424Z",
     "start_time": "2024-12-22T05:37:08.371115Z"
    }
   },
   "source": [
    "import torch\n",
    "import torch.nn as nn\n",
    "import torch.optim as optim\n",
    "from torch.utils.data import DataLoader, Dataset\n",
    "from sklearn.metrics import classification_report\n",
    "from sklearn.preprocessing import LabelEncoder\n",
    "from sklearn.model_selection import train_test_split\n",
    "\n",
    "# Preprocessing utilities\n",
    "class SequenceDataset(Dataset):\n",
    "    def __init__(self, sentences, tags, word2idx, tag2idx, max_len):\n",
    "        self.sentences = sentences\n",
    "        self.tags = tags\n",
    "        self.word2idx = word2idx\n",
    "        self.tag2idx = tag2idx\n",
    "        self.max_len = max_len\n",
    "    \n",
    "    def __len__(self):\n",
    "        return len(self.sentences)\n",
    "    \n",
    "    def __getitem__(self, idx):\n",
    "        sentence = self.sentences[idx]\n",
    "        tag_seq = self.tags[idx]\n",
    "        \n",
    "        # Padding and converting to indices\n",
    "        sentence_padded = [self.word2idx.get(word, self.word2idx[\"<UNK>\"]) for word in sentence]\n",
    "        tag_padded = [self.tag2idx[tag] for tag in tag_seq]\n",
    "        \n",
    "        sentence_padded = sentence_padded[:self.max_len] + [self.word2idx[\"<PAD>\"]] * (self.max_len - len(sentence_padded))\n",
    "        tag_padded = tag_padded[:self.max_len] + [self.tag2idx[\"<PAD>\"]] * (self.max_len - len(tag_padded))\n",
    "        \n",
    "        return torch.tensor(sentence_padded, dtype=torch.long), torch.tensor(tag_padded, dtype=torch.long)\n",
    "\n"
   ],
   "outputs": [],
   "execution_count": 21
  },
  {
   "cell_type": "code",
   "metadata": {
    "ExecuteTime": {
     "end_time": "2024-12-22T05:37:09.793116Z",
     "start_time": "2024-12-22T05:37:09.787596Z"
    }
   },
   "source": [
    "# Model Definition\n",
    "class BiLSTMTagger(nn.Module):\n",
    "    def __init__(self, vocab_size, tagset_size, embedding_dim, hidden_dim):\n",
    "        super(BiLSTMTagger, self).__init__()\n",
    "        self.embedding = nn.Embedding(vocab_size, embedding_dim, padding_idx=0)\n",
    "        self.lstm = nn.LSTM(embedding_dim, hidden_dim, bidirectional=True, batch_first=True)\n",
    "        self.fc = nn.Linear(hidden_dim * 2, tagset_size)\n",
    "    \n",
    "    def forward(self, sentences):\n",
    "        embeddings = self.embedding(sentences)\n",
    "        lstm_out, _ = self.lstm(embeddings)\n",
    "        logits = self.fc(lstm_out)\n",
    "        return logits\n",
    "\n",
    "# Hyperparameters\n",
    "EMBEDDING_DIM = 100\n",
    "HIDDEN_DIM = 128\n",
    "BATCH_SIZE = 32\n",
    "EPOCHS = 10\n",
    "MAX_LEN = 50\n"
   ],
   "outputs": [],
   "execution_count": 22
  },
  {
   "cell_type": "code",
   "metadata": {
    "ExecuteTime": {
     "end_time": "2024-12-22T05:37:09.809597Z",
     "start_time": "2024-12-22T05:37:09.804418Z"
    }
   },
   "source": [
    "# dataset preparation\n",
    "def preprocess_data(dataset):\n",
    "    sentences = [example[\"tokens\"] for example in dataset]\n",
    "    tags = [example[\"tags\"] for example in dataset]\n",
    "    \n",
    "    vocab = {word for sentence in sentences for word in sentence}\n",
    "    tags_set = {tag for tag_seq in tags for tag in tag_seq}\n",
    "    \n",
    "    word2idx = {word: idx + 2 for idx, word in enumerate(vocab)}\n",
    "    word2idx[\"<PAD>\"] = 0\n",
    "    word2idx[\"<UNK>\"] = 1\n",
    "    \n",
    "    tag2idx = {tag: idx + 1 for idx, tag in enumerate(tags_set)}\n",
    "    tag2idx[\"<PAD>\"] = 0\n",
    "    \n",
    "    return sentences, tags, word2idx, tag2idx\n",
    "\n"
   ],
   "outputs": [],
   "execution_count": 23
  },
  {
   "cell_type": "code",
   "metadata": {
    "ExecuteTime": {
     "end_time": "2024-12-22T05:37:09.827834Z",
     "start_time": "2024-12-22T05:37:09.821028Z"
    }
   },
   "source": [
    "# train and eval\n",
    "def train_model(model, train_loader, optimizer, criterion, device):\n",
    "    model.train()\n",
    "    total_loss = 0\n",
    "    for sentences, tags in train_loader:\n",
    "        sentences, tags = sentences.to(device), tags.to(device)\n",
    "        optimizer.zero_grad()\n",
    "        outputs = model(sentences)\n",
    "        outputs = outputs.view(-1, outputs.shape[-1])\n",
    "        tags = tags.view(-1)\n",
    "        loss = criterion(outputs, tags)\n",
    "        loss.backward()\n",
    "        optimizer.step()\n",
    "        total_loss += loss.item()\n",
    "    return total_loss / len(train_loader)\n",
    "\n",
    "def evaluate_model(model, test_loader, tag2idx, idx2tag, device):\n",
    "    model.eval()\n",
    "    y_true, y_pred = [], []\n",
    "    with torch.no_grad():\n",
    "        for sentences, tags in test_loader:\n",
    "            sentences, tags = sentences.to(device), tags.to(device)\n",
    "            outputs = model(sentences)\n",
    "            predicted = torch.argmax(outputs, dim=-1)\n",
    "            for true, pred in zip(tags, predicted):\n",
    "                true = true.cpu().numpy()\n",
    "                pred = pred.cpu().numpy()\n",
    "                for t, p in zip(true, pred):\n",
    "                    if t != tag2idx[\"<PAD>\"]:\n",
    "                        y_true.append(idx2tag[t])\n",
    "                        y_pred.append(idx2tag[p])\n",
    "    print(classification_report(y_true, y_pred))\n"
   ],
   "outputs": [],
   "execution_count": 24
  },
  {
   "cell_type": "code",
   "metadata": {
    "ExecuteTime": {
     "end_time": "2024-12-22T05:37:09.960842Z",
     "start_time": "2024-12-22T05:37:09.840257Z"
    }
   },
   "source": [
    "# Prepare dataset\n",
    "train_sentences, train_tags, word2idx, tag2idx = preprocess_data(train_hugging_face_dat)\n",
    "test_sentences, test_tags, _, _ = preprocess_data(test_hugging_face_dat)\n",
    "\n",
    "idx2tag = {idx: tag for tag, idx in tag2idx.items()}\n",
    "\n",
    "train_dataset = SequenceDataset(train_sentences, train_tags, word2idx, tag2idx, MAX_LEN)\n",
    "test_dataset = SequenceDataset(test_sentences, test_tags, word2idx, tag2idx, MAX_LEN)\n",
    "\n",
    "train_loader = DataLoader(train_dataset, batch_size=BATCH_SIZE, shuffle=True)\n",
    "test_loader = DataLoader(test_dataset, batch_size=BATCH_SIZE, shuffle=False)\n"
   ],
   "outputs": [],
   "execution_count": 25
  },
  {
   "cell_type": "code",
   "metadata": {
    "ExecuteTime": {
     "end_time": "2024-12-22T05:37:09.985072Z",
     "start_time": "2024-12-22T05:37:09.975112Z"
    }
   },
   "source": [
    "# Initialize model\n",
    "device = torch.device(\"cuda\" if torch.cuda.is_available() else \"cpu\")\n",
    "model = BiLSTMTagger(len(word2idx), len(tag2idx), EMBEDDING_DIM, HIDDEN_DIM).to(device)\n"
   ],
   "outputs": [],
   "execution_count": 26
  },
  {
   "cell_type": "code",
   "metadata": {
    "ExecuteTime": {
     "end_time": "2024-12-22T05:37:10.830626Z",
     "start_time": "2024-12-22T05:37:09.999011Z"
    }
   },
   "source": [
    "# Loss function and optimizer\n",
    "criterion = nn.CrossEntropyLoss(ignore_index=tag2idx[\"<PAD>\"])\n",
    "optimizer = optim.Adam(model.parameters(), lr=0.001)\n"
   ],
   "outputs": [],
   "execution_count": 27
  },
  {
   "cell_type": "code",
   "metadata": {
    "ExecuteTime": {
     "end_time": "2024-12-22T05:37:14.931404Z",
     "start_time": "2024-12-22T05:37:10.845093Z"
    }
   },
   "source": [
    "# Train the model\n",
    "for epoch in range(EPOCHS):\n",
    "    train_loss = train_model(model, train_loader, optimizer, criterion, device)\n",
    "    print(f\"Epoch {epoch + 1}/{EPOCHS}, Loss: {train_loss:.4f}\")"
   ],
   "outputs": [
    {
     "name": "stdout",
     "output_type": "stream",
     "text": [
      "Epoch 1/10, Loss: 1.0879\n",
      "Epoch 2/10, Loss: 0.7178\n",
      "Epoch 3/10, Loss: 0.6100\n",
      "Epoch 4/10, Loss: 0.5401\n",
      "Epoch 5/10, Loss: 0.4788\n",
      "Epoch 6/10, Loss: 0.4246\n",
      "Epoch 7/10, Loss: 0.3859\n",
      "Epoch 8/10, Loss: 0.3449\n",
      "Epoch 9/10, Loss: 0.3039\n",
      "Epoch 10/10, Loss: 0.2681\n"
     ]
    }
   ],
   "execution_count": 28
  },
  {
   "cell_type": "code",
   "metadata": {
    "ExecuteTime": {
     "end_time": "2024-12-22T05:37:15.002675Z",
     "start_time": "2024-12-22T05:37:14.958528Z"
    }
   },
   "source": [
    "# Evaluate the model\n",
    "evaluate_model(model, test_loader, tag2idx, idx2tag, device)"
   ],
   "outputs": [
    {
     "name": "stdout",
     "output_type": "stream",
     "text": [
      "              precision    recall  f1-score   support\n",
      "\n",
      "           B       0.51      0.49      0.50       235\n",
      "           I       0.66      0.64      0.65       244\n",
      "           O       0.89      0.90      0.89      1397\n",
      "\n",
      "    accuracy                           0.81      1876\n",
      "   macro avg       0.68      0.67      0.68      1876\n",
      "weighted avg       0.81      0.81      0.81      1876\n",
      "\n"
     ]
    }
   ],
   "execution_count": 29
  },
  {
   "cell_type": "code",
   "metadata": {
    "ExecuteTime": {
     "end_time": "2024-12-22T05:37:15.064290Z",
     "start_time": "2024-12-22T05:37:15.029461Z"
    }
   },
   "source": [
    "#save ter model\n",
    "import joblib\n",
    "joblib.dump({\n",
    "    'model_state_dict': model.state_dict(),\n",
    "    'word2idx': word2idx,\n",
    "    'tag2idx': tag2idx,\n",
    "    'idx2tag': idx2tag,\n",
    "    'embedding_dim': EMBEDDING_DIM,\n",
    "    'hidden_dim': HIDDEN_DIM\n",
    "}, 'bilstm_ner_model.pkl')\n"
   ],
   "outputs": [
    {
     "data": {
      "text/plain": [
       "['bilstm_ner_model.pkl']"
      ]
     },
     "execution_count": 30,
     "metadata": {},
     "output_type": "execute_result"
    }
   ],
   "execution_count": 30
  },
  {
   "cell_type": "code",
   "metadata": {
    "ExecuteTime": {
     "end_time": "2024-12-22T05:37:15.266327Z",
     "start_time": "2024-12-22T05:37:15.090719Z"
    }
   },
   "source": [
    "import numpy as np\n",
    "import matplotlib.pyplot as plt\n",
    "import seaborn as sns\n",
    "from sklearn.metrics import confusion_matrix\n",
    "import pandas as pd  \n",
    "\n",
    "def plot_confusion_matrix(y_true, y_pred, classes):\n",
    "\n",
    "    # Compute confusion matrix\n",
    "    cm = confusion_matrix(y_true, y_pred, labels=classes)\n",
    "    \n",
    "    # Create a DataFrame for the confusion matrix\n",
    "    cm_df = pd.DataFrame(cm, index=classes, columns=classes)\n",
    "    \n",
    "    # Plot the heatmap\n",
    "    plt.figure(figsize=(12, 10))\n",
    "    sns.heatmap(cm_df, annot=True, cmap='Greens', fmt='d')\n",
    "    plt.title('Confusion Matrix')\n",
    "    plt.ylabel('True Label')\n",
    "    plt.xlabel('Predicted Label')\n",
    "    plt.show()\n",
    "\n",
    "y_true_flat = [tag for tags in test_tags for tag in tags if tag != '<PAD>']\n",
    "y_pred_flat = [tag for tags in predicted_labels for tag in tags if tag != '<PAD>']\n",
    "\n",
    "unique_tags = [tag for tag in tag2idx.keys() if tag != '<PAD>']\n",
    "\n",
    "# Plot confusion matrix\n",
    "plot_confusion_matrix(y_true_flat, y_pred_flat, unique_tags)\n",
    "\n",
    "\n"
   ],
   "outputs": [
    {
     "data": {
      "text/plain": [
       "<Figure size 1200x1000 with 2 Axes>"
      ],
      "image/png": "[encoded data removed]"
     },
     "metadata": {},
     "output_type": "display_data"
    }
   ],
   "execution_count": 31
  },
  {
   "metadata": {
    "ExecuteTime": {
     "end_time": "2024-12-22T05:37:15.319865Z",
     "start_time": "2024-12-22T05:37:15.283348Z"
    }
   },
   "cell_type": "code",
   "source": [
    "import torch\n",
    "import joblib\n",
    "\n",
    "# Load the trained model and mappings\n",
    "saved_data = joblib.load(\"bilstm_ner_model.pkl\")\n",
    "model_state_dict = saved_data['model_state_dict']\n",
    "word2idx = saved_data['word2idx']\n",
    "tag2idx = saved_data['tag2idx']\n",
    "idx2tag = saved_data['idx2tag']\n",
    "embedding_dim = saved_data['embedding_dim']\n",
    "hidden_dim = saved_data['hidden_dim']\n",
    "\n",
    "device = torch.device(\"cuda\" if torch.cuda.is_available() else \"cpu\")\n",
    "\n",
    "# Reinitialize the model\n",
    "model = BiLSTMTagger(len(word2idx), len(tag2idx), embedding_dim, hidden_dim).to(device)\n",
    "model.load_state_dict(model_state_dict)\n",
    "model.eval()\n",
    "\n",
    "# Preprocess input sentence\n",
    "def preprocess_sentence(sentence, word2idx, max_len):\n",
    "    sentence_idx = [word2idx.get(word, word2idx[\"<UNK>\"]) for word in sentence]\n",
    "    sentence_idx = sentence_idx[:max_len] + [word2idx[\"<PAD>\"]] * (max_len - len(sentence_idx))\n",
    "    return torch.tensor([sentence_idx], dtype=torch.long).to(device)\n",
    "\n",
    "# Predict and format results\n",
    "def predict_tags(sentence, model, word2idx, idx2tag, max_len):\n",
    "    input_tensor = preprocess_sentence(sentence, word2idx, max_len)\n",
    "    with torch.no_grad():\n",
    "        outputs = model(input_tensor)\n",
    "        predicted_indices = torch.argmax(outputs, dim=-1).cpu().numpy()[0]  # Remove batch dim\n",
    "    predicted_tags = [idx2tag[idx] for idx in predicted_indices[:len(sentence)]]\n",
    "    return list(zip(sentence, predicted_tags))\n",
    "\n",
    "# Input sentence\n",
    "input_sentence = [\"This\", \"paper\", \"aim\", \"to\", \"solve\", \"machine\", \n",
    "                  \"translation\", \"Tagging\", \"problem\", \"using\", \"neural\", \"networks\"]\n",
    "\n",
    "# Predict tags\n",
    "results = predict_tags(input_sentence, model, word2idx, idx2tag, MAX_LEN)\n",
    "\n",
    "# Print results\n",
    "print(\"Predicted Output:\")\n",
    "print(results)\n"
   ],
   "outputs": [
    {
     "name": "stdout",
     "output_type": "stream",
     "text": [
      "Predicted Output:\n",
      "[('This', 'O'), ('paper', 'O'), ('aim', 'O'), ('to', 'O'), ('solve', 'B'), ('machine', 'B'), ('translation', 'I'), ('Tagging', 'I'), ('problem', 'O'), ('using', 'O'), ('neural', 'B'), ('networks', 'I')]\n"
     ]
    }
   ],
   "execution_count": 32
  },
  {
   "metadata": {
    "ExecuteTime": {
     "end_time": "2024-12-22T05:37:15.386107Z",
     "start_time": "2024-12-22T05:37:15.383245Z"
    }
   },
   "cell_type": "code",
   "source": "",
   "outputs": [],
   "execution_count": null
  }
 ],
 "metadata": {
  "kernelspec": {
   "display_name": "Python 3",
   "language": "python",
   "name": "python3"
  },
  "language_info": {
   "codemirror_mode": {
    "name": "ipython",
    "version": 3
   },
   "file_extension": ".py",
   "mimetype": "text/x-python",
   "name": "python",
   "nbconvert_exporter": "python",
   "pygments_lexer": "ipython3",
   "version": "3.10.11"
  }
 },
 "nbformat": 4,
 "nbformat_minor": 2
}
